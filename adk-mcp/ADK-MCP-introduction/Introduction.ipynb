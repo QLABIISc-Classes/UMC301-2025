{
 "cells": [
  {
   "cell_type": "markdown",
   "metadata": {},
   "source": [
    "# Agent Development Kit (ADK) and Model Context Protocol (MCP)\n",
    "\n",
    "This document provides a technical explanation of two key technologies in AI agent development: the Agent Development Kit (ADK) and the Model Context Protocol (MCP). It outlines their individual functions, architectures, and how they integrate to build modular and scalable AI systems.\n",
    "\n",
    "* **Model Context Protocol (MCP):** A communication standard for connecting AI models to external tools and data sources.\n",
    "* **Agent Development Kit (ADK):** A framework for building the core logic and operational runtime of an AI agent."
   ]
  },
  {
   "cell_type": "markdown",
   "metadata": {},
   "source": [
    "## 1. The Model Context Protocol (MCP)\n",
    "\n",
    "MCP is an open protocol designed to standardize the way Large Language Models (LLMs) and AI agents interact with external systems. Its primary function is to abstract the communication layer between a model and its tools."
   ]
  },
  {
   "cell_type": "markdown",
   "metadata": {},
   "source": [
    "### 1.1. The Integration Challenge\n",
    "\n",
    "Without a standardized protocol, each AI model requires a unique, custom-coded integration for every tool or data source it needs to access. This is known as a point-to-point integration model."
   ]
  },
  {
   "cell_type": "markdown",
   "metadata": {},
   "source": [
    "![](mcp/mcp0.png)"
   ]
  },
  {
   "cell_type": "markdown",
   "metadata": {},
   "source": [
    "This approach leads to a significant architectural challenge. The number of required connections is a product of the number of models (N) and the number of data sources (M), resulting in **N×M** connections. This model is difficult to scale and maintain, as adding a new model or data source requires multiple new integrations."
   ]
  },
  {
   "cell_type": "markdown",
   "metadata": {},
   "source": [
    "![](mcp/mcp1.jpg)"
   ]
  },
  {
   "cell_type": "markdown",
   "metadata": {},
   "source": [
    "### 1.2. The MCP Solution: A Centralized Hub\n",
    "\n",
    "MCP introduces a hub-and-spoke architecture. Instead of direct connections, both models and tools connect to a central MCP layer. This reduces the total number of required connections to **N+M**.\n",
    "\n",
    "In this model:\n",
    "* **Models** act as MCP clients.\n",
    "* **Tools and data sources** are exposed via MCP servers.\n",
    "\n",
    "This decoupling simplifies development and improves scalability. A new tool only needs one connection to the MCP layer to be accessible by all models, and vice versa."
   ]
  },
  {
   "cell_type": "markdown",
   "metadata": {},
   "source": [
    "### 1.3. Core Architecture and Components\n",
    "\n",
    "The MCP architecture is based on a client-server model that can operate across different environments."
   ]
  },
  {
   "cell_type": "markdown",
   "metadata": {},
   "source": [
    "![](mcp/mcp2.png)"
   ]
  },
  {
   "cell_type": "markdown",
   "metadata": {},
   "source": [
    "The components are:\n",
    "* **Host:** The application process running the AI model or agent (the MCP client).\n",
    "* **Client:** The specific module within the host that initiates communication using the MCP protocol.\n",
    "* **Server:** A service that wraps a resource (like a database or API) and exposes its capabilities via MCP.\n",
    "* **Resource:** The underlying tool or data source (e.g., local files, a remote web service).\n",
    "\n",
    "A single client can establish connections with multiple servers, enabling an agent to access a diverse set of local and remote tools through a unified protocol."
   ]
  },
  {
   "cell_type": "markdown",
   "metadata": {},
   "source": [
    "![](mcp/mcp3.png)"
   ]
  },
  {
   "cell_type": "markdown",
   "metadata": {},
   "source": [
    "### 1.4. Operational Flow of an MCP Interaction\n",
    "\n",
    "The following sequence diagram illustrates a typical interaction flow between a user, an AI agent (acting as an MCP client), and an external system."
   ]
  },
  {
   "cell_type": "markdown",
   "metadata": {},
   "source": [
    "![](mcp/mcp6.png)"
   ]
  },
  {
   "cell_type": "markdown",
   "metadata": {},
   "source": [
    "The process involves several key steps:\n",
    "1.  **Capability Discovery:** The client connects to the server to learn what tools are available.\n",
    "2.  **Need Recognition:** The AI model processes a user query and determines that an external tool is required.\n",
    "3.  **Standardized Request:** The client sends a request, formatted according to the MCP standard, to the server.\n",
    "4.  **Tool Execution:** The MCP server translates the request and interacts with the external system.\n",
    "5.  **Formatted Result:** The server returns a structured response to the client.\n",
    "6.  **Response Generation:** The AI model synthesizes the data from the tool into a final response for the user."
   ]
  },
  {
   "cell_type": "markdown",
   "metadata": {},
   "source": [
    "### 1.5. Use Case: Context Aggregation\n",
    "\n",
    "MCP's utility extends beyond tool execution. It can also function as a pipeline for aggregating various forms of context that an LLM needs to generate a high-quality response."
   ]
  },
  {
   "cell_type": "markdown",
   "metadata": {},
   "source": [
    "![](mcp/mcp4.jpg)"
   ]
  },
  {
   "cell_type": "markdown",
   "metadata": {},
   "source": [
    "As shown above, MCP can combine a user query with relevant documents, style guidelines, and security constraints into a single, structured context layer for the LLM to process."
   ]
  },
  {
   "cell_type": "markdown",
   "metadata": {},
   "source": [
    "---"
   ]
  },
  {
   "cell_type": "markdown",
   "metadata": {},
   "source": [
    "## 2. The Agent Development Kit (ADK)\n",
    "\n",
    "ADK is a software development kit for building the application logic and runtime environment of AI agents. Where MCP handles external communication, ADK provides the internal structure of the agent itself."
   ]
  },
  {
   "cell_type": "markdown",
   "metadata": {},
   "source": [
    "### 2.1. ADK High-Level Architecture\n",
    "\n",
    "ADK is organized into four distinct layers, from foundational components to the user interface."
   ]
  },
  {
   "cell_type": "markdown",
   "metadata": {},
   "source": [
    "![](adk/adk1.png)"
   ]
  },
  {
   "cell_type": "markdown",
   "metadata": {},
   "source": [
    "* **Foundation Components:** The lowest layer provides core building blocks like `Session`, `State`, `Memory`, and `Tools`. These are the primitive elements an agent is built from.\n",
    "* **Agent System:** This layer contains the agent's reasoning logic. It can be composed of different agent types, such as `LLM Agents` for decision-making or `Workflow Agents` for executing predefined sequences.\n",
    "* **ADK Runtime & Runner:** The operational core of the agent. It manages the event loop, orchestrates tasks between different agents, and handles service management.\n",
    "* **User Interfaces:** The top layer that exposes the agent to users or other systems through a CLI, web interface, or API."
   ]
  },
  {
   "cell_type": "markdown",
   "metadata": {},
   "source": [
    "## 3. Comparison and Integration\n",
    "\n",
    "Understanding the distinct roles of ADK and MCP is key to designing effective AI systems."
   ]
  },
  {
   "cell_type": "markdown",
   "metadata": {},
   "source": [
    "### 3.1. ADK vs. MCP: A Functional Comparison\n",
    "\n",
    "| Feature          | **ADK (Agent Development Kit)** | **MCP (Model Context Protocol)** |\n",
    "| :--------------- | :----------------------------------------------------------- | :----------------------------------------------------------- |\n",
    "| **Primary Type** | Framework / Toolkit                                          | Protocol / Standard                                          |\n",
    "| **Core Purpose** | To **build and orchestrate** the agent's internal logic.    | To **standardize communication** between an agent and its tools. |\n",
    "| **Scope** | Manages the entire agent lifecycle, from state to execution. | Manages only the external interaction and data exchange layer. |\n",
    "| **Analogy** | The agent's internal \"operating system\" and \"brain.\"     | The standardized \"ports\" (like USB-C) for external connections. |"
   ]
  },
  {
   "cell_type": "markdown",
   "metadata": {},
   "source": [
    "### 3.2. Integrating ADK and MCP\n",
    "\n",
    "ADK and MCP are designed to be complementary. The most common integration pattern is to build an agent using ADK that then acts as an MCP client to interact with external tools."
   ]
  },
  {
   "cell_type": "markdown",
   "metadata": {},
   "source": [
    "![](mcp/mcp5.jpg)"
   ]
  },
  {
   "cell_type": "markdown",
   "metadata": {},
   "source": [
    "This end-to-end architecture shows:\n",
    "1.  An **End User** interacts with an application.\n",
    "2.  The application interfaces with the **MCP Client**. This client is the agent built with **ADK**.\n",
    "3.  The ADK agent uses the **Model Context Protocol** to send a standardized request to an **MCP Server**.\n",
    "4.  The MCP Server securely handles the interaction with the backend **API Endpoint** or third-party service.\n",
    "\n",
    "This integrated approach allows developers to focus on building sophisticated agent logic with ADK, while relying on MCP to provide scalable, standardized access to any required external capability."
   ]
  },
  {
   "cell_type": "markdown",
   "metadata": {},
   "source": [
    "In summary, ADK provides the framework to construct an intelligent agent's core logic, while MCP provides the standardized communication protocol for that agent to interact with a scalable and modular ecosystem of external tools and data sources.\""
   ]
  }
 ],
 "metadata": {
  "kernelspec": {
   "display_name": "Python 3",
   "language": "python",
   "name": "python3"
  },
  "language_info": {
   "codemirror_mode": {
    "name": "ipython",
    "version": 3
   },
   "file_extension": ".py",
   "mimetype": "text/x-python",
   "name": "python",
   "nbconvert_exporter": "python",
   "pygments_lexer": "ipython3",
   "version": "3.9.12"
  }
 },
 "nbformat": 4,
 "nbformat_minor": 4
}
