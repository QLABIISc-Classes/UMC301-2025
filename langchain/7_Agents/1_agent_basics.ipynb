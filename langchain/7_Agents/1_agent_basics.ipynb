{
 "cells": [
  {
   "cell_type": "markdown",
   "id": "2f04a0ea",
   "metadata": {},
   "source": [
    "## Agents"
   ]
  },
  {
   "cell_type": "markdown",
   "id": "c5c7fb58",
   "metadata": {},
   "source": [
    "\n",
    "\n",
    "Agents can handle sophisticated tasks, but their implementation is often straightforward. They are typically just LLMs using tools based on environmental feedback in a loop. It is therefore crucial to design toolsets and their documentation clearly and thoughtfully.\n",
    "\n",
    "When to use agents: Agents can be used for open-ended problems where it’s difficult or impossible to predict the required number of steps, and where you can’t hardcode a fixed path. The LLM will potentially operate for many turns, and you must have some level of trust in its decision-making. Agents' autonomy makes them ideal for scaling tasks in trusted environments.\n",
    "\n",
    "Resource: [Building Effective Agents](https://www.anthropic.com/engineering/building-effective-agents)\n"
   ]
  },
  {
   "cell_type": "markdown",
   "id": "694177d1",
   "metadata": {},
   "source": [
    "![](58d9f10c985c4eb5d53798dea315f7bb5ab6249e-2401x1000.webp)"
   ]
  },
  {
   "cell_type": "markdown",
   "id": "5f95ee48",
   "metadata": {},
   "source": [
    "![](4b9a1f4eb63d5962a6e1746ac26bbc857cf3474f-2400x1666.webp)"
   ]
  },
  {
   "cell_type": "markdown",
   "id": "d513d0f5",
   "metadata": {},
   "source": [
    "### Why LangGraph?\n",
    "\n",
    "#### Core Problems LangGraph Solves\n",
    "\n",
    "- **Cycles & Loops**: Traditional chains are linear; agents need to iterate, retry, and loop back\n",
    "- **State Management**: Agents need memory to track progress across complex workflows\n",
    "- **Multi-Agent Coordination**: Complex tasks require multiple agents working together\n",
    "- **Production Reliability**: Need persistence, error recovery, and human oversight\n",
    "\n",
    "#### Key Benefits\n",
    "\n",
    "**Control & Flexibility**\n",
    "- Low-level orchestration without abstraction\n",
    "- Full control over prompts, architecture, and decision flow\n",
    "- Support for both workflows (predictable) and agents (autonomous)\n",
    "\n",
    "**Production Features**\n",
    "- **Durable Execution**: Agents persist through failures and resume automatically\n",
    "- **Human-in-the-Loop**: Add oversight and approval steps anywhere\n",
    "- **Comprehensive Memory**: Short-term and long-term state management\n",
    "- **Debugging**: Visual tools for tracing execution and state transitions\n",
    "\n",
    "**Advanced Workflows**\n",
    "- **Cyclical Processes**: Agents can loop, reflect, and iterate\n",
    "- **Multi-Agent**: Multiple specialized agents collaborate on complex tasks\n",
    "- **Conditional Logic**: Dynamic routing based on agent decisions\n",
    "- **Graph Structure**: Nodes (agents/functions) connected by edges (data flow)\n",
    "\n",
    "#### **When to Use LangGraph**\n",
    "\n",
    "**Use LangGraph for:**\n",
    "- Complex, multi-step workflows\n",
    "- Agents that need to iterate/retry\n",
    "- Long-running processes\n",
    "- Multi-agent systems\n",
    "- Production deployments requiring reliability\n",
    "\n",
    "**Use Simple LangChain for:**\n",
    "- Linear question-answering\n",
    "- Basic tool calling\n",
    "- Quick prototypes\n",
    "- Predictable workflows"
   ]
  },
  {
   "cell_type": "markdown",
   "id": "32a132da",
   "metadata": {},
   "source": [
    "More on LangGraph: https://academy.langchain.com/courses/intro-to-langgraph"
   ]
  },
  {
   "cell_type": "code",
   "execution_count": null,
   "id": "d2b041ac",
   "metadata": {},
   "outputs": [],
   "source": [
    "!pip install langgraph"
   ]
  },
  {
   "cell_type": "code",
   "execution_count": 1,
   "id": "3c9d9a9f",
   "metadata": {},
   "outputs": [],
   "source": [
    "from langchain_openai import ChatOpenAI\n",
    "\n",
    "llm_model=\"gpt-4o-mini\"\n",
    "llm = ChatOpenAI(temperature=0.0, model=llm_model)"
   ]
  },
  {
   "cell_type": "code",
   "execution_count": 2,
   "id": "84523955",
   "metadata": {},
   "outputs": [],
   "source": [
    "from langchain_core.tools import tool\n",
    "\n",
    "\n",
    "# Define tools\n",
    "@tool\n",
    "def multiply(a: int, b: int) -> int:\n",
    "    \"\"\"Multiply a and b.\n",
    "\n",
    "    Args:\n",
    "        a: first int\n",
    "        b: second int\n",
    "    \"\"\"\n",
    "    return a * b\n",
    "\n",
    "\n",
    "@tool\n",
    "def add(a: int, b: int) -> int:\n",
    "    \"\"\"Adds a and b.\n",
    "\n",
    "    Args:\n",
    "        a: first int\n",
    "        b: second int\n",
    "    \"\"\"\n",
    "    return a + b\n",
    "\n",
    "\n",
    "@tool\n",
    "def divide(a: int, b: int) -> float:\n",
    "    \"\"\"Divide a and b.\n",
    "\n",
    "    Args:\n",
    "        a: first int\n",
    "        b: second int\n",
    "    \"\"\"\n",
    "    return a / b\n",
    "\n",
    "\n",
    "# Augment the LLM with tools\n",
    "tools = [add, multiply, divide]\n",
    "tools_by_name = {tool.name: tool for tool in tools}\n",
    "llm_with_tools = llm.bind_tools(tools)"
   ]
  },
  {
   "cell_type": "code",
   "execution_count": 4,
   "id": "32c43496",
   "metadata": {},
   "outputs": [
    {
     "name": "stdout",
     "output_type": "stream",
     "text": [
      "{'call_llm': AIMessage(content='', additional_kwargs={'tool_calls': [{'id': 'call_tOptO2FC2ykwp0jLMenIiQC8', 'function': {'arguments': '{\"a\":3,\"b\":4}', 'name': 'add'}, 'type': 'function'}], 'refusal': None}, response_metadata={'token_usage': {'completion_tokens': 17, 'prompt_tokens': 149, 'total_tokens': 166, 'completion_tokens_details': {'accepted_prediction_tokens': 0, 'audio_tokens': 0, 'reasoning_tokens': 0, 'rejected_prediction_tokens': 0}, 'prompt_tokens_details': {'audio_tokens': 0, 'cached_tokens': 0}}, 'model_name': 'gpt-4o-mini-2024-07-18', 'system_fingerprint': 'fp_62a23a81ef', 'id': 'chatcmpl-BdX6ely6SpD3ZAMiIH7uIeKLwaCdS', 'service_tier': 'default', 'finish_reason': 'tool_calls', 'logprobs': None}, id='run--37f7ec5c-32d1-426b-8fb3-9a9024dbebd4-0', tool_calls=[{'name': 'add', 'args': {'a': 3, 'b': 4}, 'id': 'call_tOptO2FC2ykwp0jLMenIiQC8', 'type': 'tool_call'}], usage_metadata={'input_tokens': 149, 'output_tokens': 17, 'total_tokens': 166, 'input_token_details': {'audio': 0, 'cache_read': 0}, 'output_token_details': {'audio': 0, 'reasoning': 0}})}\n",
      "\n",
      "\n",
      "{'call_tool': ToolMessage(content='7', name='add', id='3b27fbbe-5a2e-4944-a5bc-da96069ed207', tool_call_id='call_tOptO2FC2ykwp0jLMenIiQC8')}\n",
      "\n",
      "\n",
      "{'call_llm': AIMessage(content='The sum of 3 and 4 is 7.', additional_kwargs={'refusal': None}, response_metadata={'token_usage': {'completion_tokens': 13, 'prompt_tokens': 174, 'total_tokens': 187, 'completion_tokens_details': {'accepted_prediction_tokens': 0, 'audio_tokens': 0, 'reasoning_tokens': 0, 'rejected_prediction_tokens': 0}, 'prompt_tokens_details': {'audio_tokens': 0, 'cached_tokens': 0}}, 'model_name': 'gpt-4o-mini-2024-07-18', 'system_fingerprint': 'fp_62a23a81ef', 'id': 'chatcmpl-BdX6gq7uCyoUQwKAnwrWOwAkmz68Q', 'service_tier': 'default', 'finish_reason': 'stop', 'logprobs': None}, id='run--70ec54a1-bba9-4141-becc-b21fcb32cc49-0', usage_metadata={'input_tokens': 174, 'output_tokens': 13, 'total_tokens': 187, 'input_token_details': {'audio': 0, 'cache_read': 0}, 'output_token_details': {'audio': 0, 'reasoning': 0}})}\n",
      "\n",
      "\n",
      "{'agent': [HumanMessage(content='Add 3 and 4', additional_kwargs={}, response_metadata={}, id='243d35df-48fc-4cf9-99e0-ea45463f8a25'), AIMessage(content='', additional_kwargs={'tool_calls': [{'id': 'call_tOptO2FC2ykwp0jLMenIiQC8', 'function': {'arguments': '{\"a\":3,\"b\":4}', 'name': 'add'}, 'type': 'function'}], 'refusal': None}, response_metadata={'token_usage': {'completion_tokens': 17, 'prompt_tokens': 149, 'total_tokens': 166, 'completion_tokens_details': {'accepted_prediction_tokens': 0, 'audio_tokens': 0, 'reasoning_tokens': 0, 'rejected_prediction_tokens': 0}, 'prompt_tokens_details': {'audio_tokens': 0, 'cached_tokens': 0}}, 'model_name': 'gpt-4o-mini-2024-07-18', 'system_fingerprint': 'fp_62a23a81ef', 'id': 'chatcmpl-BdX6ely6SpD3ZAMiIH7uIeKLwaCdS', 'service_tier': 'default', 'finish_reason': 'tool_calls', 'logprobs': None}, id='run--37f7ec5c-32d1-426b-8fb3-9a9024dbebd4-0', tool_calls=[{'name': 'add', 'args': {'a': 3, 'b': 4}, 'id': 'call_tOptO2FC2ykwp0jLMenIiQC8', 'type': 'tool_call'}], usage_metadata={'input_tokens': 149, 'output_tokens': 17, 'total_tokens': 166, 'input_token_details': {'audio': 0, 'cache_read': 0}, 'output_token_details': {'audio': 0, 'reasoning': 0}}), ToolMessage(content='7', name='add', id='3b27fbbe-5a2e-4944-a5bc-da96069ed207', tool_call_id='call_tOptO2FC2ykwp0jLMenIiQC8'), AIMessage(content='The sum of 3 and 4 is 7.', additional_kwargs={'refusal': None}, response_metadata={'token_usage': {'completion_tokens': 13, 'prompt_tokens': 174, 'total_tokens': 187, 'completion_tokens_details': {'accepted_prediction_tokens': 0, 'audio_tokens': 0, 'reasoning_tokens': 0, 'rejected_prediction_tokens': 0}, 'prompt_tokens_details': {'audio_tokens': 0, 'cached_tokens': 0}}, 'model_name': 'gpt-4o-mini-2024-07-18', 'system_fingerprint': 'fp_62a23a81ef', 'id': 'chatcmpl-BdX6gq7uCyoUQwKAnwrWOwAkmz68Q', 'service_tier': 'default', 'finish_reason': 'stop', 'logprobs': None}, id='run--70ec54a1-bba9-4141-becc-b21fcb32cc49-0', usage_metadata={'input_tokens': 174, 'output_tokens': 13, 'total_tokens': 187, 'input_token_details': {'audio': 0, 'cache_read': 0}, 'output_token_details': {'audio': 0, 'reasoning': 0}})]}\n",
      "\n",
      "\n"
     ]
    }
   ],
   "source": [
    "from langgraph.graph import add_messages\n",
    "from langgraph.func import entrypoint, task\n",
    "\n",
    "from langchain_core.messages import (\n",
    "    SystemMessage,\n",
    "    HumanMessage,\n",
    "    BaseMessage,\n",
    "    ToolCall,\n",
    ")\n",
    "\n",
    "# nodes defined\n",
    "# decision node, LLM decides whether to call a tool or not\n",
    "\n",
    "@task\n",
    "def call_llm(messages: list[BaseMessage]):\n",
    "    \"\"\"LLM decides whether to call a tool or not\"\"\"\n",
    "    return llm_with_tools.invoke( \n",
    "        [\n",
    "            SystemMessage(\n",
    "                content=\"You are a helpful assistant tasked with performing arithmetic on a set of inputs.\"\n",
    "            )\n",
    "        ]\n",
    "        + messages # output saved to messages, this messages get accumulated as the llm calls different tools and gets the response\n",
    "    )\n",
    "\n",
    "\n",
    "@task # tool node, look at the last message and if that's a tool, then calls the tool\n",
    "def call_tool(tool_call: ToolCall):\n",
    "    \"\"\"Performs the tool call\"\"\"\n",
    "    tool = tools_by_name[tool_call[\"name\"]]\n",
    "    return tool.invoke(tool_call)\n",
    "\n",
    "\n",
    "@entrypoint() # start the agent - agent control flow\n",
    "def agent(messages: list[BaseMessage]):\n",
    "    llm_response = call_llm(messages).result()\n",
    "\n",
    "    while True:\n",
    "        if not llm_response.tool_calls: # Continues until tool call is not needed\n",
    "            break\n",
    "\n",
    "        # Execute tools\n",
    "        tool_result_futures = [\n",
    "            call_tool(tool_call) for tool_call in llm_response.tool_calls\n",
    "        ]\n",
    "        tool_results = [fut.result() for fut in tool_result_futures]\n",
    "        messages = add_messages(messages, [llm_response, *tool_results])\n",
    "        llm_response = call_llm(messages).result()\n",
    "\n",
    "    messages = add_messages(messages, llm_response)\n",
    "    return messages\n",
    "\n",
    "# Invoke\n",
    "messages = [HumanMessage(content=\"Add 3 and 4\")]\n",
    "for chunk in agent.stream(messages, stream_mode=\"updates\"): # stream real-time updates as agent works\n",
    "    print(chunk)\n",
    "    print(\"\\n\")"
   ]
  },
  {
   "cell_type": "markdown",
   "id": "dfde005a",
   "metadata": {},
   "source": [
    "Langsmith trace: https://smith.langchain.com/public/42ae8bf9-3935-4504-a081-8ddbcbfc8b2e/r"
   ]
  },
  {
   "cell_type": "code",
   "execution_count": 24,
   "id": "22db517a",
   "metadata": {},
   "outputs": [
    {
     "data": {
      "image/png": "[encoded data removed]",
      "text/plain": [
       "<IPython.core.display.Image object>"
      ]
     },
     "metadata": {},
     "output_type": "display_data"
    },
    {
     "name": "stdout",
     "output_type": "stream",
     "text": [
      "================================\u001b[1m Human Message \u001b[0m=================================\n",
      "\n",
      "Add 3 and 4.\n",
      "==================================\u001b[1m Ai Message \u001b[0m==================================\n",
      "Tool Calls:\n",
      "  add (call_zaQVBUPKQQHTd92MuSpjSrpT)\n",
      " Call ID: call_zaQVBUPKQQHTd92MuSpjSrpT\n",
      "  Args:\n",
      "    a: 3\n",
      "    b: 4\n",
      "=================================\u001b[1m Tool Message \u001b[0m=================================\n",
      "Name: add\n",
      "\n",
      "7\n",
      "==================================\u001b[1m Ai Message \u001b[0m==================================\n",
      "\n",
      "The sum of 3 and 4 is 7.\n"
     ]
    }
   ],
   "source": [
    "from langgraph.prebuilt import create_react_agent\n",
    "from IPython.display import Image, display\n",
    "\n",
    "# Pass in:\n",
    "# (1) the augmented LLM with tools\n",
    "# (2) the tools list (which is used to create the tool node)\n",
    "pre_built_agent = create_react_agent(llm, tools=tools)\n",
    "\n",
    "# Show the agent\n",
    "display(Image(pre_built_agent.get_graph().draw_mermaid_png()))\n",
    "\n",
    "# Invoke\n",
    "messages = [HumanMessage(content=\"Add 3 and 4.\")]\n",
    "messages = pre_built_agent.invoke({\"messages\": messages})\n",
    "for m in messages[\"messages\"]:\n",
    "    m.pretty_print()"
   ]
  },
  {
   "cell_type": "code",
   "execution_count": 5,
   "id": "d111f164",
   "metadata": {},
   "outputs": [
    {
     "name": "stdout",
     "output_type": "stream",
     "text": [
      "{'call_llm': AIMessage(content='', additional_kwargs={'tool_calls': [{'id': 'call_p1qhrhNxLU90rk5z9XwEEfz8', 'function': {'arguments': '{\"a\":3,\"b\":4}', 'name': 'add'}, 'type': 'function'}], 'refusal': None}, response_metadata={'token_usage': {'completion_tokens': 17, 'prompt_tokens': 155, 'total_tokens': 172, 'completion_tokens_details': {'accepted_prediction_tokens': 0, 'audio_tokens': 0, 'reasoning_tokens': 0, 'rejected_prediction_tokens': 0}, 'prompt_tokens_details': {'audio_tokens': 0, 'cached_tokens': 0}}, 'model_name': 'gpt-4o-mini-2024-07-18', 'system_fingerprint': 'fp_62a23a81ef', 'id': 'chatcmpl-BdXCIaooFrvXqWlCuWDM2Ch073Q4W', 'service_tier': 'default', 'finish_reason': 'tool_calls', 'logprobs': None}, id='run--76101f48-6344-4893-a079-fbef5858a656-0', tool_calls=[{'name': 'add', 'args': {'a': 3, 'b': 4}, 'id': 'call_p1qhrhNxLU90rk5z9XwEEfz8', 'type': 'tool_call'}], usage_metadata={'input_tokens': 155, 'output_tokens': 17, 'total_tokens': 172, 'input_token_details': {'audio': 0, 'cache_read': 0}, 'output_token_details': {'audio': 0, 'reasoning': 0}})}\n",
      "\n",
      "\n",
      "{'call_tool': ToolMessage(content='7', name='add', tool_call_id='call_p1qhrhNxLU90rk5z9XwEEfz8')}\n",
      "\n",
      "\n",
      "{'call_llm': AIMessage(content='', additional_kwargs={'tool_calls': [{'id': 'call_tL53IGg3r9RT4BerHBSZChup', 'function': {'arguments': '{\"a\":7,\"b\":2}', 'name': 'multiply'}, 'type': 'function'}], 'refusal': None}, response_metadata={'token_usage': {'completion_tokens': 17, 'prompt_tokens': 180, 'total_tokens': 197, 'completion_tokens_details': {'accepted_prediction_tokens': 0, 'audio_tokens': 0, 'reasoning_tokens': 0, 'rejected_prediction_tokens': 0}, 'prompt_tokens_details': {'audio_tokens': 0, 'cached_tokens': 0}}, 'model_name': 'gpt-4o-mini-2024-07-18', 'system_fingerprint': 'fp_62a23a81ef', 'id': 'chatcmpl-BdXCKnyRpdg2pWuvVBmVRjZNs5u86', 'service_tier': 'default', 'finish_reason': 'tool_calls', 'logprobs': None}, id='run--3f066e3b-40bb-4012-beeb-686bbabd1c64-0', tool_calls=[{'name': 'multiply', 'args': {'a': 7, 'b': 2}, 'id': 'call_tL53IGg3r9RT4BerHBSZChup', 'type': 'tool_call'}], usage_metadata={'input_tokens': 180, 'output_tokens': 17, 'total_tokens': 197, 'input_token_details': {'audio': 0, 'cache_read': 0}, 'output_token_details': {'audio': 0, 'reasoning': 0}})}\n",
      "\n",
      "\n",
      "{'call_tool': ToolMessage(content='14', name='multiply', id='4ba74a9a-5f35-4b38-8802-7ab53b909a4a', tool_call_id='call_tL53IGg3r9RT4BerHBSZChup')}\n",
      "\n",
      "\n",
      "{'call_llm': AIMessage(content='The result of adding 3 and 4, then multiplying by 2 is 14.', additional_kwargs={'refusal': None}, response_metadata={'token_usage': {'completion_tokens': 20, 'prompt_tokens': 205, 'total_tokens': 225, 'completion_tokens_details': {'accepted_prediction_tokens': 0, 'audio_tokens': 0, 'reasoning_tokens': 0, 'rejected_prediction_tokens': 0}, 'prompt_tokens_details': {'audio_tokens': 0, 'cached_tokens': 0}}, 'model_name': 'gpt-4o-mini-2024-07-18', 'system_fingerprint': 'fp_62a23a81ef', 'id': 'chatcmpl-BdXCKzdzb8rcRQdXgfT4Nl9cVTSAS', 'service_tier': 'default', 'finish_reason': 'stop', 'logprobs': None}, id='run--88009aa8-b4e0-4319-a824-8d345c1a6986-0', usage_metadata={'input_tokens': 205, 'output_tokens': 20, 'total_tokens': 225, 'input_token_details': {'audio': 0, 'cache_read': 0}, 'output_token_details': {'audio': 0, 'reasoning': 0}})}\n",
      "\n",
      "\n",
      "{'agent': [HumanMessage(content='Add 3 and 4, then multiply by 2', additional_kwargs={}, response_metadata={}, id='22498e0e-9859-4ad2-8c77-701bf9ee2388'), AIMessage(content='', additional_kwargs={'tool_calls': [{'id': 'call_p1qhrhNxLU90rk5z9XwEEfz8', 'function': {'arguments': '{\"a\":3,\"b\":4}', 'name': 'add'}, 'type': 'function'}], 'refusal': None}, response_metadata={'token_usage': {'completion_tokens': 17, 'prompt_tokens': 155, 'total_tokens': 172, 'completion_tokens_details': {'accepted_prediction_tokens': 0, 'audio_tokens': 0, 'reasoning_tokens': 0, 'rejected_prediction_tokens': 0}, 'prompt_tokens_details': {'audio_tokens': 0, 'cached_tokens': 0}}, 'model_name': 'gpt-4o-mini-2024-07-18', 'system_fingerprint': 'fp_62a23a81ef', 'id': 'chatcmpl-BdXCIaooFrvXqWlCuWDM2Ch073Q4W', 'service_tier': 'default', 'finish_reason': 'tool_calls', 'logprobs': None}, id='run--76101f48-6344-4893-a079-fbef5858a656-0', tool_calls=[{'name': 'add', 'args': {'a': 3, 'b': 4}, 'id': 'call_p1qhrhNxLU90rk5z9XwEEfz8', 'type': 'tool_call'}], usage_metadata={'input_tokens': 155, 'output_tokens': 17, 'total_tokens': 172, 'input_token_details': {'audio': 0, 'cache_read': 0}, 'output_token_details': {'audio': 0, 'reasoning': 0}}), ToolMessage(content='7', name='add', id='f0de35ba-9943-4eb2-90cd-99059b82ec1f', tool_call_id='call_p1qhrhNxLU90rk5z9XwEEfz8'), AIMessage(content='', additional_kwargs={'tool_calls': [{'id': 'call_tL53IGg3r9RT4BerHBSZChup', 'function': {'arguments': '{\"a\":7,\"b\":2}', 'name': 'multiply'}, 'type': 'function'}], 'refusal': None}, response_metadata={'token_usage': {'completion_tokens': 17, 'prompt_tokens': 180, 'total_tokens': 197, 'completion_tokens_details': {'accepted_prediction_tokens': 0, 'audio_tokens': 0, 'reasoning_tokens': 0, 'rejected_prediction_tokens': 0}, 'prompt_tokens_details': {'audio_tokens': 0, 'cached_tokens': 0}}, 'model_name': 'gpt-4o-mini-2024-07-18', 'system_fingerprint': 'fp_62a23a81ef', 'id': 'chatcmpl-BdXCKnyRpdg2pWuvVBmVRjZNs5u86', 'service_tier': 'default', 'finish_reason': 'tool_calls', 'logprobs': None}, id='run--3f066e3b-40bb-4012-beeb-686bbabd1c64-0', tool_calls=[{'name': 'multiply', 'args': {'a': 7, 'b': 2}, 'id': 'call_tL53IGg3r9RT4BerHBSZChup', 'type': 'tool_call'}], usage_metadata={'input_tokens': 180, 'output_tokens': 17, 'total_tokens': 197, 'input_token_details': {'audio': 0, 'cache_read': 0}, 'output_token_details': {'audio': 0, 'reasoning': 0}}), ToolMessage(content='14', name='multiply', id='4ba74a9a-5f35-4b38-8802-7ab53b909a4a', tool_call_id='call_tL53IGg3r9RT4BerHBSZChup'), AIMessage(content='The result of adding 3 and 4, then multiplying by 2 is 14.', additional_kwargs={'refusal': None}, response_metadata={'token_usage': {'completion_tokens': 20, 'prompt_tokens': 205, 'total_tokens': 225, 'completion_tokens_details': {'accepted_prediction_tokens': 0, 'audio_tokens': 0, 'reasoning_tokens': 0, 'rejected_prediction_tokens': 0}, 'prompt_tokens_details': {'audio_tokens': 0, 'cached_tokens': 0}}, 'model_name': 'gpt-4o-mini-2024-07-18', 'system_fingerprint': 'fp_62a23a81ef', 'id': 'chatcmpl-BdXCKzdzb8rcRQdXgfT4Nl9cVTSAS', 'service_tier': 'default', 'finish_reason': 'stop', 'logprobs': None}, id='run--88009aa8-b4e0-4319-a824-8d345c1a6986-0', usage_metadata={'input_tokens': 205, 'output_tokens': 20, 'total_tokens': 225, 'input_token_details': {'audio': 0, 'cache_read': 0}, 'output_token_details': {'audio': 0, 'reasoning': 0}})]}\n",
      "\n",
      "\n"
     ]
    }
   ],
   "source": [
    "messages = [HumanMessage(content=\"Add 3 and 4, then multiply by 2\")]\n",
    "for chunk in agent.stream(messages, stream_mode=\"updates\"):\n",
    "    print(chunk)\n",
    "    print(\"\\n\")"
   ]
  },
  {
   "cell_type": "code",
   "execution_count": 6,
   "id": "2375282f",
   "metadata": {},
   "outputs": [
    {
     "data": {
      "image/png": "[encoded data removed]",
      "text/plain": [
       "<IPython.core.display.Image object>"
      ]
     },
     "metadata": {},
     "output_type": "display_data"
    },
    {
     "name": "stdout",
     "output_type": "stream",
     "text": [
      "================================\u001b[1m Human Message \u001b[0m=================================\n",
      "\n",
      "Add 3 and 4, then multiply by 2\n",
      "==================================\u001b[1m Ai Message \u001b[0m==================================\n",
      "Tool Calls:\n",
      "  add (call_NlIqa1kn6RquUSJFTeRZhC1S)\n",
      " Call ID: call_NlIqa1kn6RquUSJFTeRZhC1S\n",
      "  Args:\n",
      "    a: 3\n",
      "    b: 4\n",
      "  multiply (call_lUEHt2uKE4c4TtJsIS80WMdM)\n",
      " Call ID: call_lUEHt2uKE4c4TtJsIS80WMdM\n",
      "  Args:\n",
      "    a: 2\n",
      "    b: 2\n",
      "=================================\u001b[1m Tool Message \u001b[0m=================================\n",
      "Name: add\n",
      "\n",
      "7\n",
      "=================================\u001b[1m Tool Message \u001b[0m=================================\n",
      "Name: multiply\n",
      "\n",
      "4\n",
      "==================================\u001b[1m Ai Message \u001b[0m==================================\n",
      "Tool Calls:\n",
      "  multiply (call_11S9wk717vUU4zXZxIId4qRs)\n",
      " Call ID: call_11S9wk717vUU4zXZxIId4qRs\n",
      "  Args:\n",
      "    a: 7\n",
      "    b: 2\n",
      "=================================\u001b[1m Tool Message \u001b[0m=================================\n",
      "Name: multiply\n",
      "\n",
      "14\n",
      "==================================\u001b[1m Ai Message \u001b[0m==================================\n",
      "\n",
      "First, I added 3 and 4 to get 7. Then, I multiplied that result by 2, which gives us 14.\n"
     ]
    }
   ],
   "source": [
    "from langgraph.prebuilt import create_react_agent\n",
    "from IPython.display import Image, display\n",
    "\n",
    "# Pass in:\n",
    "# (1) the augmented LLM with tools\n",
    "# (2) the tools list (which is used to create the tool node)\n",
    "pre_built_agent = create_react_agent(llm, tools=tools)\n",
    "\n",
    "# Show the agent\n",
    "display(Image(pre_built_agent.get_graph().draw_mermaid_png()))\n",
    "\n",
    "# Invoke\n",
    "messages = [HumanMessage(content=\"Add 3 and 4, then multiply by 2\")]\n",
    "messages = pre_built_agent.invoke({\"messages\": messages})\n",
    "for m in messages[\"messages\"]:\n",
    "    m.pretty_print()"
   ]
  },
  {
   "cell_type": "code",
   "execution_count": 7,
   "id": "622b6e5a",
   "metadata": {},
   "outputs": [
    {
     "name": "stdout",
     "output_type": "stream",
     "text": [
      "================================\u001b[1m Human Message \u001b[0m=================================\n",
      "\n",
      "Add 3 and 4, then multiply by 5, then divide it by 7\n",
      "==================================\u001b[1m Ai Message \u001b[0m==================================\n",
      "Tool Calls:\n",
      "  add (call_BB5Rs4sgiao028Qz6krrVuBj)\n",
      " Call ID: call_BB5Rs4sgiao028Qz6krrVuBj\n",
      "  Args:\n",
      "    a: 3\n",
      "    b: 4\n",
      "  multiply (call_GQlSH9C7CJZAm5TQnsdwElVa)\n",
      " Call ID: call_GQlSH9C7CJZAm5TQnsdwElVa\n",
      "  Args:\n",
      "    a: 7\n",
      "    b: 5\n",
      "=================================\u001b[1m Tool Message \u001b[0m=================================\n",
      "Name: add\n",
      "\n",
      "7\n",
      "=================================\u001b[1m Tool Message \u001b[0m=================================\n",
      "Name: multiply\n",
      "\n",
      "35\n",
      "==================================\u001b[1m Ai Message \u001b[0m==================================\n",
      "Tool Calls:\n",
      "  divide (call_egdf10bH4rEQgPqoxRM0puEs)\n",
      " Call ID: call_egdf10bH4rEQgPqoxRM0puEs\n",
      "  Args:\n",
      "    a: 35\n",
      "    b: 7\n",
      "=================================\u001b[1m Tool Message \u001b[0m=================================\n",
      "Name: divide\n",
      "\n",
      "5.0\n",
      "==================================\u001b[1m Ai Message \u001b[0m==================================\n",
      "\n",
      "The result of adding 3 and 4 is 7. When you multiply that by 5, you get 35. Finally, dividing 35 by 7 gives you 5.0.\n"
     ]
    }
   ],
   "source": [
    "messages = [HumanMessage(content=\"Add 3 and 4, then multiply by 5, then divide it by 7\")]\n",
    "messages = pre_built_agent.invoke({\"messages\": messages})\n",
    "for m in messages[\"messages\"]:\n",
    "    m.pretty_print()"
   ]
  }
 ],
 "metadata": {
  "kernelspec": {
   "display_name": "auro",
   "language": "python",
   "name": "python3"
  },
  "language_info": {
   "codemirror_mode": {
    "name": "ipython",
    "version": 3
   },
   "file_extension": ".py",
   "mimetype": "text/x-python",
   "name": "python",
   "nbconvert_exporter": "python",
   "pygments_lexer": "ipython3",
   "version": "3.10.16"
  }
 },
 "nbformat": 4,
 "nbformat_minor": 5
}
